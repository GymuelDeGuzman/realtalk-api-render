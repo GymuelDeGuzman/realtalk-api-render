{
 "cells": [
  {
   "cell_type": "code",
   "execution_count": 11,
   "metadata": {},
   "outputs": [],
   "source": [
    "import librosa as librosa #librosa\n",
    "import librosa.display\n",
    "\n",
    "import numpy as np #numpy\n",
    "\n",
    "import matplotlib.pyplot as plt #matplot\n",
    "\n",
    "from matplotlib.backends.backend_agg import FigureCanvasAgg as FigureCanvas\n",
    "%matplotlib inline\n",
    "\n",
    "from IPython.display import Audio\n",
    "import pandas as pd #pandas\n",
    "import os\n",
    "from sklearn.model_selection import train_test_split\n",
    "\n",
    "#import splitfolders\n",
    "import skimage.io #skimage\n",
    "\n",
    "import os\n",
    "from matplotlib.backends.backend_agg import FigureCanvasAgg as FigureCanvas\n",
    "\n",
    "import PIL.Image as Image "
   ]
  },
  {
   "cell_type": "code",
   "execution_count": 12,
   "metadata": {},
   "outputs": [],
   "source": [
    "directory = './Final'\n",
    "\n",
    "def wav2melspec(fp):\n",
    "    y, sr = librosa.load(fp)\n",
    "    S = librosa.feature.melspectrogram(y=y, sr=sr, n_mels=128)\n",
    "    log_S = librosa.amplitude_to_db(S, ref=np.max)\n",
    "    img = librosa.display.specshow(log_S, sr=sr, x_axis='time', y_axis='mel')\n",
    "    # get current figure without white border\n",
    "    img = plt.gcf()\n",
    "    img.gca().xaxis.set_major_locator(plt.NullLocator())\n",
    "    img.gca().yaxis.set_major_locator(plt.NullLocator())\n",
    "    img.subplots_adjust(top = 1, bottom = 0, right = 1, left = 0,\n",
    "            hspace = 0, wspace = 0)\n",
    "    img.gca().xaxis.set_major_locator(plt.NullLocator())\n",
    "    img.gca().yaxis.set_major_locator(plt.NullLocator())\n",
    "    # to pil image\n",
    "    img.canvas.draw()\n",
    "    img = Image.frombytes('RGB', img.canvas.get_width_height(), img.canvas.tostring_rgb())\n",
    "    # img.save('./FinalDataset/'+ filename +'.png')\n",
    "    return img\n",
    "\n",
    "\n",
    "# while int(counter) < 401:\n",
    "#     filename = 'Fake_F1_0' + str(counter)\n",
    "#     path = directory + '/' + filename + '.wav'\n",
    "#     if os.path.isfile(path):\n",
    "#         wav2melspec(path)\n",
    "#     counter = int(counter)\n",
    "#     counter += 1\n",
    "#     counter = str(counter).zfill(3)"
   ]
  }
 ],
 "metadata": {
  "kernelspec": {
   "display_name": "Python 3",
   "language": "python",
   "name": "python3"
  },
  "language_info": {
   "codemirror_mode": {
    "name": "ipython",
    "version": 3
   },
   "file_extension": ".py",
   "mimetype": "text/x-python",
   "name": "python",
   "nbconvert_exporter": "python",
   "pygments_lexer": "ipython3",
   "version": "3.12.3"
  }
 },
 "nbformat": 4,
 "nbformat_minor": 2
}
